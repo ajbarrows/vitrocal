{
 "cells": [
  {
   "cell_type": "markdown",
   "metadata": {},
   "source": [
    "## Tune Vitrocal Parameters"
   ]
  },
  {
   "cell_type": "code",
   "execution_count": null,
   "metadata": {},
   "outputs": [],
   "source": [
    "import os\n",
    "import pandas as pd\n",
    "import numpy as np\n",
    "import matplotlib.pyplot as plt\n",
    "import seaborn as sns\n",
    "\n",
    "from vitrocal.datasets import catalog, ExcelDataset\n",
    "from vitrocal.preprocessors import StandardPreprocessor\n",
    "from vitrocal.detectors import DerivativeDetector, StandardExtractor\n",
    "from vitrocal.analyzers import StandardAnalyzer"
   ]
  },
  {
   "cell_type": "markdown",
   "metadata": {},
   "source": [
    "Pull out functions from `AnalyzeSingle.py` and work with them interactively"
   ]
  },
  {
   "cell_type": "markdown",
   "metadata": {},
   "source": [
    "### Load example data file"
   ]
  },
  {
   "cell_type": "code",
   "execution_count": null,
   "metadata": {},
   "outputs": [],
   "source": [
    "def load_data(fpath: str | os.PathLike, load_args: dict={}) -> pd.DataFrame:\n",
    "    \"\"\"Load single neuron output file.\n",
    "\n",
    "    Args:\n",
    "        fpath (str | os.PathLike): Path to single Excel spreadsheet.\n",
    "        load_args (dict, optional): Passed to `pd.read_excel()`. Defaults to None.\n",
    "\n",
    "    Returns:\n",
    "        pd.DataFrame: Dataframe\n",
    "    \"\"\"\n",
    "    fname = os.path.basename(fpath)\n",
    "    dataset = ExcelDataset.ExcelDataset(fpath, load_args)\n",
    "    return dataset.load(), fname"
   ]
  },
  {
   "cell_type": "code",
   "execution_count": null,
   "metadata": {},
   "outputs": [],
   "source": [
    "df, fname = load_data(\"../../data/01_raw/E Green.xlsx\")\n",
    "df.head()"
   ]
  },
  {
   "cell_type": "markdown",
   "metadata": {},
   "source": [
    "Note: you want to be super careful about loading your files and looking at them first.\n",
    "These files don't have a header, and sometimes they have numbered rows like this one.\n"
   ]
  },
  {
   "cell_type": "code",
   "execution_count": null,
   "metadata": {},
   "outputs": [],
   "source": [
    "load_args = {'header': None, 'index_col': 0}\n",
    "df, fname = load_data(\"../../data/01_raw/E Green.xlsx\", load_args)\n",
    "df.head()"
   ]
  },
  {
   "cell_type": "markdown",
   "metadata": {},
   "source": [
    "`Vitrocal` is organized into three distinct modules for data analysis:\n",
    "* `vitrocal.preprocessors`\n",
    "* `vitrocal.detectors`\n",
    "* `vitrocal.analyzers`\n",
    "\n",
    "You'll want to explore the parameter space for each of these individually and assess\n",
    "the impacts different parameter combinations have on your data.\n",
    "\n",
    "See [the documentation](https://ajbarrow.w3.uvm.edu/assets/public_share/vitrocal_docs/api/) for details."
   ]
  },
  {
   "cell_type": "markdown",
   "metadata": {},
   "source": [
    "### Preprocess\n",
    "\n",
    "https://ajbarrow.w3.uvm.edu/assets/public_share/vitrocal_docs/api/#vitrocal.preprocessors.StandardPreprocessor   "
   ]
  },
  {
   "cell_type": "code",
   "execution_count": null,
   "metadata": {},
   "outputs": [],
   "source": [
    "# change these\n",
    "fps = 1/2.5\n",
    "bleach_period = 60\n",
    "filter_frequency = None\n",
    "baseline_threshold = 10 # percent\n",
    "preprocess_window_size = 60 # seconds\n",
    "\n",
    "# instantiate the StandardPreprocess object with these parameters\n",
    "preprocessor = StandardPreprocessor(\n",
    "        frames_per_second=1/2.5,\n",
    "        bleach_period=bleach_period,\n",
    "        filter_frequency=filter_frequency,\n",
    "        baseline_threshold=baseline_threshold,\n",
    "        window_size=preprocess_window_size\n",
    ")"
   ]
  },
  {
   "cell_type": "code",
   "execution_count": null,
   "metadata": {},
   "outputs": [],
   "source": [
    "# call the object's `preprocess` method\n",
    "# see the documentation for other methods available\n",
    "\n",
    "processed = preprocessor.preprocess(df)"
   ]
  },
  {
   "cell_type": "code",
   "execution_count": null,
   "metadata": {},
   "outputs": [],
   "source": [
    "processed.head()"
   ]
  },
  {
   "cell_type": "markdown",
   "metadata": {},
   "source": [
    "## Detect and Extract\n",
    "\n",
    "https://ajbarrow.w3.uvm.edu/assets/public_share/vitrocal_docs/api/#vitrocal.detectors.DerivativeDetector   "
   ]
  },
  {
   "cell_type": "code",
   "execution_count": null,
   "metadata": {},
   "outputs": [],
   "source": [
    "# change this\n",
    "threshold = 20 # percent\n",
    "detector = DerivativeDetector(threshold)\n",
    "\n",
    "detected = detector.detect(processed)\n",
    "detected"
   ]
  },
  {
   "cell_type": "markdown",
   "metadata": {},
   "source": [
    "Extract: https://ajbarrow.w3.uvm.edu/assets/public_share/vitrocal_docs/api/#vitrocal.detectors.StandardExtractor\n",
    "\n",
    "Note: the `StandardExtractor` class has a `detect_and_extract` method"
   ]
  },
  {
   "cell_type": "code",
   "execution_count": null,
   "metadata": {},
   "outputs": [],
   "source": [
    "# change these\n",
    "window = (3, 30) # seconds before and after\n",
    "threshold = 20 # percent\n",
    "\n",
    "extractor = StandardExtractor(\n",
    "    window=window,\n",
    "    frames_per_second=fps, # defined above\n",
    "    threshold=threshold\n",
    ")\n",
    "\n",
    "events = extractor.extract(processed, detected)\n",
    "events"
   ]
  },
  {
   "cell_type": "markdown",
   "metadata": {},
   "source": [
    "Note: this method returns events as a Python dictionary. You can examine individual events, if you like:"
   ]
  },
  {
   "cell_type": "code",
   "execution_count": null,
   "metadata": {},
   "outputs": [],
   "source": [
    "roi = 2\n",
    "events[roi]"
   ]
  },
  {
   "cell_type": "markdown",
   "metadata": {},
   "source": [
    "## Analyze\n",
    "https://ajbarrow.w3.uvm.edu/assets/public_share/vitrocal_docs/api/#vitrocal.analyzers.StandardAnalyzer"
   ]
  },
  {
   "cell_type": "code",
   "execution_count": null,
   "metadata": {},
   "outputs": [],
   "source": [
    "# change these\n",
    "upper_decay_bound = 0.8 # proportion\n",
    "lower_decay_bound = 0.2 # proportion\n",
    "\n",
    "analyzer = StandardAnalyzer(\n",
    "    upper_decay_bound=upper_decay_bound,\n",
    "    lower_decay_bound=lower_decay_bound\n",
    ")\n",
    "\n",
    "result, avg_result = analyzer.analyze(events)"
   ]
  },
  {
   "cell_type": "code",
   "execution_count": null,
   "metadata": {},
   "outputs": [],
   "source": [
    "result"
   ]
  },
  {
   "cell_type": "code",
   "execution_count": null,
   "metadata": {},
   "outputs": [],
   "source": [
    "avg_result"
   ]
  },
  {
   "cell_type": "markdown",
   "metadata": {},
   "source": [
    "## Plotting\n",
    "\n",
    "Jupyter notebooks are very helpful for making quick plots to confirm your intuition about an analysis problem. The syntax can be tricky: https://matplotlib.org\n",
    "\n",
    "[Seaborn](https://seaborn.pydata.org) can make life a little easier, but you generally need to work with `pandas.DataFrames` for the input data."
   ]
  },
  {
   "cell_type": "code",
   "execution_count": null,
   "metadata": {},
   "outputs": [],
   "source": [
    "N = len(result)\n",
    "\n",
    "plt.scatter(np.repeat('peak', N), result['peak'])\n",
    "plt.scatter(np.repeat('upper', N), result['upper'])\n",
    "plt.scatter(np.repeat('lower', N), result['lower'])"
   ]
  }
 ],
 "metadata": {
  "kernelspec": {
   "display_name": "vitrocal",
   "language": "python",
   "name": "python3"
  },
  "language_info": {
   "codemirror_mode": {
    "name": "ipython",
    "version": 3
   },
   "file_extension": ".py",
   "mimetype": "text/x-python",
   "name": "python",
   "nbconvert_exporter": "python",
   "pygments_lexer": "ipython3",
   "version": "3.10.14"
  }
 },
 "nbformat": 4,
 "nbformat_minor": 2
}
