{
 "cells": [
  {
   "cell_type": "code",
   "execution_count": null,
   "metadata": {},
   "outputs": [],
   "source": [
    "import random\n",
    "import pandas as pd\n",
    "import numpy as np\n",
    "import matplotlib.pyplot as plt\n",
    "\n",
    "from vitrocal.datasets import catalog\n",
    "from vitrocal.preprocessors import StandardPreprocessor\n",
    "from vitrocal.detectors import DerivativeDetector, StandardExtractor\n",
    "from vitrocal.analyzers import StandardAnalyzer"
   ]
  },
  {
   "cell_type": "code",
   "execution_count": null,
   "metadata": {},
   "outputs": [],
   "source": [
    "# to load actual data\n",
    "\n",
    "datacatalog = catalog.DataCatalog()\n",
    "df = datacatalog.load('figi_output')\n",
    "# df = pd.read_csv(\"file.csv\")\n",
    "\n",
    "df"
   ]
  },
  {
   "cell_type": "code",
   "execution_count": null,
   "metadata": {},
   "outputs": [],
   "source": [
    "preprocessor = StandardPreprocessor(\n",
    "    frames_per_second=1/2.5, \n",
    "    bleach_period=60,\n",
    "    filter_frequency=.15, \n",
    "    baseline_threshold=10, \n",
    "    window_size=60)\n",
    "\n",
    "data = preprocessor.drop_frames(df)\n",
    "data"
   ]
  },
  {
   "cell_type": "code",
   "execution_count": null,
   "metadata": {},
   "outputs": [],
   "source": [
    "preprocessor.filter(data)"
   ]
  },
  {
   "cell_type": "code",
   "execution_count": null,
   "metadata": {},
   "outputs": [],
   "source": [
    "baseline = preprocessor.baseline(data)\n",
    "baseline"
   ]
  },
  {
   "cell_type": "code",
   "execution_count": null,
   "metadata": {},
   "outputs": [],
   "source": [
    "d_f = preprocessor.compute_fluoresence_change(data, baseline)"
   ]
  },
  {
   "cell_type": "code",
   "execution_count": null,
   "metadata": {},
   "outputs": [],
   "source": [
    "# alternatively:\n",
    "d_f = preprocessor.preprocess(df)\n",
    "d_f"
   ]
  },
  {
   "cell_type": "code",
   "execution_count": null,
   "metadata": {},
   "outputs": [],
   "source": [
    "detector = DerivativeDetector(\n",
    "    threshold=20\n",
    ")\n",
    "\n",
    "detected = detector.detect(d_f)\n",
    "detected.head(15)"
   ]
  },
  {
   "cell_type": "code",
   "execution_count": null,
   "metadata": {},
   "outputs": [],
   "source": [
    "extractor = StandardExtractor(\n",
    "    window = (3, 30), # this is in seconds\n",
    "    frames_per_second=1/2.5, \n",
    "    threshold=20)"
   ]
  },
  {
   "cell_type": "code",
   "execution_count": null,
   "metadata": {},
   "outputs": [],
   "source": [
    "# calls DerivativeDetector.detect()\n",
    "events = extractor.detect_and_extract(d_f)\n",
    "events"
   ]
  },
  {
   "cell_type": "code",
   "execution_count": null,
   "metadata": {},
   "outputs": [],
   "source": [
    "analyzer = StandardAnalyzer(\n",
    "    upper_decay_bound=.8,\n",
    "    lower_decay_bound=.2\n",
    ")\n",
    "\n",
    "results, avg_results = analyzer.analyze(events)\n",
    "results"
   ]
  },
  {
   "cell_type": "code",
   "execution_count": null,
   "metadata": {},
   "outputs": [],
   "source": [
    "avg_results"
   ]
  },
  {
   "cell_type": "code",
   "execution_count": null,
   "metadata": {},
   "outputs": [],
   "source": [
    "# examine a few events\n",
    "arbitrary_events = range(1, 10+1)\n",
    "\n",
    "fig, axs = plt.subplots(int(len(arbitrary_events)/2), \n",
    "                        ncols=2,\n",
    "                        figsize=(10, 8))\n",
    "\n",
    "for roi, ax in zip(arbitrary_events, axs.flat):\n",
    "\n",
    "    to_plot = random.choice(events[roi])\n",
    "    ax.plot(to_plot)\n",
    "    ax.set_title('ROI:' + str(roi))\n",
    "\n",
    "fig.tight_layout()\n",
    "plt.show()\n"
   ]
  },
  {
   "cell_type": "code",
   "execution_count": null,
   "metadata": {},
   "outputs": [],
   "source": [
    "# want the index-wise average\n",
    "\n",
    "combined = pd.Series()\n",
    "for roi, values in events.items():\n",
    "    for sequence in values:\n",
    "        tmp = pd.Series(sequence)\n",
    "        combined = pd.concat([combined, tmp], axis=1).agg(\"mean\", axis=1)\n",
    "\n",
    "plt.plot(combined.sort_index())\n",
    "plt.title(\"'Average' Detected Event\")\n"
   ]
  }
 ],
 "metadata": {
  "kernelspec": {
   "display_name": "vitrocal",
   "language": "python",
   "name": "python3"
  },
  "language_info": {
   "codemirror_mode": {
    "name": "ipython",
    "version": 3
   },
   "file_extension": ".py",
   "mimetype": "text/x-python",
   "name": "python",
   "nbconvert_exporter": "python",
   "pygments_lexer": "ipython3",
   "version": "3.10.14"
  }
 },
 "nbformat": 4,
 "nbformat_minor": 2
}
