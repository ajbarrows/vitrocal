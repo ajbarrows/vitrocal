{
 "cells": [
  {
   "cell_type": "code",
   "execution_count": null,
   "metadata": {},
   "outputs": [],
   "source": [
    "import pandas as pd\n",
    "import numpy as np\n",
    "import matplotlib.pyplot as plt\n",
    "import seaborn as sns\n",
    "\n",
    "from vitrocal.datasets import catalog\n",
    "from vitrocal.preprocessors import StandardPreprocessor\n",
    "from vitrocal.detectors import DerivativeDetector, StandardExtractor\n",
    "from vitrocal.analyzers import StandardAnalyzer"
   ]
  },
  {
   "cell_type": "markdown",
   "metadata": {},
   "source": [
    "Load data"
   ]
  },
  {
   "cell_type": "code",
   "execution_count": null,
   "metadata": {},
   "outputs": [],
   "source": [
    "datacatalog = catalog.DataCatalog()\n",
    "df1 = datacatalog.load('e_green_dmso')\n",
    "df2 = datacatalog.load('e_green')\n",
    "df1.describe()"
   ]
  },
  {
   "cell_type": "code",
   "execution_count": null,
   "metadata": {},
   "outputs": [],
   "source": [
    "df2.describe()"
   ]
  },
  {
   "cell_type": "markdown",
   "metadata": {},
   "source": [
    "Define model using default parameters"
   ]
  },
  {
   "cell_type": "code",
   "execution_count": null,
   "metadata": {},
   "outputs": [],
   "source": [
    "preprocessor = StandardPreprocessor(\n",
    "    frames_per_second=1/2.5, \n",
    "    bleach_period=60,\n",
    "    filter_frequency=.15, \n",
    "    baseline_threshold=10, \n",
    "    window_size=60)\n",
    "\n",
    "extractor = StandardExtractor(\n",
    "    window = (3, 30), # this is in seconds\n",
    "    frames_per_second=1/2.5, \n",
    "    threshold=20)\n",
    "\n",
    "analyzer = StandardAnalyzer(\n",
    "    upper_decay_bound=.8,\n",
    "    lower_decay_bound=.2\n",
    ")\n",
    "\n",
    "def pipeline(data, preprocessor, extractor, analyzer):\n",
    "    d_f = preprocessor.preprocess(data)\n",
    "    events = extractor.detect_and_extract(d_f)\n",
    "    res, avg_res = analyzer.analyze(events)\n",
    "    return d_f, events, res, avg_res"
   ]
  },
  {
   "cell_type": "code",
   "execution_count": null,
   "metadata": {},
   "outputs": [],
   "source": [
    "d_f_df1, events_df1, res_df1, avg_res_df1 = pipeline(df1, preprocessor, extractor, analyzer)\n",
    "d_f_df2, events_df2, res_df2, avg_res_df2 = pipeline(df2, preprocessor, extractor, analyzer)"
   ]
  },
  {
   "cell_type": "code",
   "execution_count": null,
   "metadata": {},
   "outputs": [],
   "source": [
    "arbitrary_events = [1, 18, 26, 35, 41, 58]\n",
    "e_dmso_green = d_f_df1.iloc[:, arbitrary_events]\n",
    "e_green = d_f_df2.iloc[:, arbitrary_events]\n",
    "\n",
    "def make_signal_plot(df1, df2, arbitrary_events, maxy=800, miny=0):\n",
    "\n",
    "    n_events = len(arbitrary_events)\n",
    "    n_samples = len(df1)\n",
    "    dy = (maxy - miny) * 0.7\n",
    "\n",
    "    fig, ax = plt.subplots()\n",
    "\n",
    "    ax.set_ylim(-dy, n_events * dy)\n",
    "    ax.set_yticks(np.arange(n_events) * dy, labels=[])\n",
    "    ax.set_xlabel('frame')\n",
    "\n",
    "    for i, (col1, col2) in enumerate(zip(df1, df2)):\n",
    "        y1 = df1[col1] + i*dy\n",
    "        y2 = df2[col2] + i*dy\n",
    "\n",
    "        ax.plot(y1, color='teal', label='E DMSO Green')\n",
    "        ax.plot(y2, color='blue', label= 'E Green')\n",
    "\n",
    "\n",
    "make_signal_plot(e_dmso_green, e_green, arbitrary_events)\n",
    "plt.savefig(\"../../data/04_reporting/data_compare.pdf\", bbox_inches='tight')\n",
    "\n"
   ]
  },
  {
   "cell_type": "code",
   "execution_count": null,
   "metadata": {},
   "outputs": [],
   "source": [
    "len(e_dmso_green)"
   ]
  },
  {
   "cell_type": "code",
   "execution_count": null,
   "metadata": {},
   "outputs": [],
   "source": [
    "def plt_avg_detected(events, title=''):\n",
    "    combined = pd.Series()\n",
    "    for roi, values in events.items():\n",
    "        for sequence in values:\n",
    "            tmp = pd.Series(sequence)\n",
    "            combined = pd.concat([combined, tmp], axis=1).agg(\"mean\", axis=1)\n",
    "\n",
    "    plt.plot(combined.sort_index())\n",
    "    plt.title(title)"
   ]
  },
  {
   "cell_type": "code",
   "execution_count": null,
   "metadata": {},
   "outputs": [],
   "source": [
    "plt_avg_detected(events_df1, \"E DMSO Green\")"
   ]
  },
  {
   "cell_type": "code",
   "execution_count": null,
   "metadata": {},
   "outputs": [],
   "source": [
    "plt_avg_detected(events_df2, \"E Green\")\n"
   ]
  }
 ],
 "metadata": {
  "kernelspec": {
   "display_name": "vitrocal",
   "language": "python",
   "name": "vitrocal"
  },
  "language_info": {
   "codemirror_mode": {
    "name": "ipython",
    "version": 3
   },
   "file_extension": ".py",
   "mimetype": "text/x-python",
   "name": "python",
   "nbconvert_exporter": "python",
   "pygments_lexer": "ipython3",
   "version": "3.10.14"
  }
 },
 "nbformat": 4,
 "nbformat_minor": 2
}
