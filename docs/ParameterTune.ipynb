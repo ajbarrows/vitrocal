{
 "cells": [
  {
   "cell_type": "markdown",
   "metadata": {},
   "source": [
    "## Tune Vitrocal Parameters"
   ]
  },
  {
   "cell_type": "code",
   "execution_count": 19,
   "metadata": {},
   "outputs": [],
   "source": [
    "import os\n",
    "import pandas as pd\n",
    "import numpy as np\n",
    "import matplotlib.pyplot as plt\n",
    "import seaborn as sns\n",
    "\n",
    "from vitrocal.datasets import catalog, ExcelDataset\n",
    "from vitrocal.preprocessors import StandardPreprocessor\n",
    "from vitrocal.detectors import DerivativeDetector, StandardExtractor\n",
    "from vitrocal.analyzers import StandardAnalyzer"
   ]
  },
  {
   "cell_type": "markdown",
   "metadata": {},
   "source": [
    "Pull out functions from `AnalyzeSingle.py` and work with them interactively"
   ]
  },
  {
   "cell_type": "markdown",
   "metadata": {},
   "source": [
    "### Load example data file"
   ]
  },
  {
   "cell_type": "code",
   "execution_count": 20,
   "metadata": {},
   "outputs": [],
   "source": [
    "def load_data(fpath: str | os.PathLike, load_args: dict={}) -> pd.DataFrame:\n",
    "    \"\"\"Load single neuron output file.\n",
    "\n",
    "    Args:\n",
    "        fpath (str | os.PathLike): Path to single Excel spreadsheet.\n",
    "        load_args (dict, optional): Passed to `pd.read_excel()`. Defaults to None.\n",
    "\n",
    "    Returns:\n",
    "        pd.DataFrame: Dataframe\n",
    "    \"\"\"\n",
    "    fname = os.path.basename(fpath)\n",
    "    dataset = ExcelDataset.ExcelDataset(fpath, load_args)\n",
    "    return dataset.load(), fname"
   ]
  },
  {
   "cell_type": "code",
   "execution_count": null,
   "metadata": {},
   "outputs": [
    {
     "data": {
      "text/html": [
       "<div>\n",
       "<style scoped>\n",
       "    .dataframe tbody tr th:only-of-type {\n",
       "        vertical-align: middle;\n",
       "    }\n",
       "\n",
       "    .dataframe tbody tr th {\n",
       "        vertical-align: top;\n",
       "    }\n",
       "\n",
       "    .dataframe thead th {\n",
       "        text-align: right;\n",
       "    }\n",
       "</style>\n",
       "<table border=\"1\" class=\"dataframe\">\n",
       "  <thead>\n",
       "    <tr style=\"text-align: right;\">\n",
       "      <th></th>\n",
       "      <th>1.000</th>\n",
       "      <th>22.640</th>\n",
       "      <th>14.464</th>\n",
       "      <th>81.846</th>\n",
       "      <th>22.303</th>\n",
       "      <th>5.206</th>\n",
       "      <th>13.008</th>\n",
       "      <th>20.742</th>\n",
       "      <th>14.349</th>\n",
       "      <th>17.126</th>\n",
       "      <th>...</th>\n",
       "      <th>4.038</th>\n",
       "      <th>19.026</th>\n",
       "      <th>6.572</th>\n",
       "      <th>17.669</th>\n",
       "      <th>7.024</th>\n",
       "      <th>2.347</th>\n",
       "      <th>23.887</th>\n",
       "      <th>42.383</th>\n",
       "      <th>4.802</th>\n",
       "      <th>7.620</th>\n",
       "    </tr>\n",
       "  </thead>\n",
       "  <tbody>\n",
       "    <tr>\n",
       "      <th>0</th>\n",
       "      <td>2</td>\n",
       "      <td>21.593</td>\n",
       "      <td>13.584</td>\n",
       "      <td>81.234</td>\n",
       "      <td>19.634</td>\n",
       "      <td>4.756</td>\n",
       "      <td>10.206</td>\n",
       "      <td>17.576</td>\n",
       "      <td>14.729</td>\n",
       "      <td>16.779</td>\n",
       "      <td>...</td>\n",
       "      <td>3.390</td>\n",
       "      <td>19.026</td>\n",
       "      <td>9.156</td>\n",
       "      <td>16.792</td>\n",
       "      <td>7.568</td>\n",
       "      <td>2.142</td>\n",
       "      <td>25.340</td>\n",
       "      <td>41.388</td>\n",
       "      <td>4.140</td>\n",
       "      <td>7.929</td>\n",
       "    </tr>\n",
       "    <tr>\n",
       "      <th>1</th>\n",
       "      <td>3</td>\n",
       "      <td>20.348</td>\n",
       "      <td>13.595</td>\n",
       "      <td>81.041</td>\n",
       "      <td>22.261</td>\n",
       "      <td>5.335</td>\n",
       "      <td>9.868</td>\n",
       "      <td>13.821</td>\n",
       "      <td>14.625</td>\n",
       "      <td>16.988</td>\n",
       "      <td>...</td>\n",
       "      <td>4.179</td>\n",
       "      <td>18.215</td>\n",
       "      <td>7.307</td>\n",
       "      <td>17.280</td>\n",
       "      <td>7.383</td>\n",
       "      <td>2.056</td>\n",
       "      <td>27.561</td>\n",
       "      <td>41.679</td>\n",
       "      <td>3.816</td>\n",
       "      <td>6.994</td>\n",
       "    </tr>\n",
       "    <tr>\n",
       "      <th>2</th>\n",
       "      <td>4</td>\n",
       "      <td>22.938</td>\n",
       "      <td>13.941</td>\n",
       "      <td>81.420</td>\n",
       "      <td>21.579</td>\n",
       "      <td>5.410</td>\n",
       "      <td>9.857</td>\n",
       "      <td>13.642</td>\n",
       "      <td>14.422</td>\n",
       "      <td>16.672</td>\n",
       "      <td>...</td>\n",
       "      <td>3.982</td>\n",
       "      <td>19.623</td>\n",
       "      <td>7.675</td>\n",
       "      <td>16.628</td>\n",
       "      <td>7.272</td>\n",
       "      <td>2.002</td>\n",
       "      <td>23.300</td>\n",
       "      <td>41.452</td>\n",
       "      <td>3.906</td>\n",
       "      <td>7.850</td>\n",
       "    </tr>\n",
       "    <tr>\n",
       "      <th>3</th>\n",
       "      <td>5</td>\n",
       "      <td>20.889</td>\n",
       "      <td>12.441</td>\n",
       "      <td>81.222</td>\n",
       "      <td>20.250</td>\n",
       "      <td>5.081</td>\n",
       "      <td>11.525</td>\n",
       "      <td>12.387</td>\n",
       "      <td>13.078</td>\n",
       "      <td>16.708</td>\n",
       "      <td>...</td>\n",
       "      <td>4.201</td>\n",
       "      <td>19.561</td>\n",
       "      <td>5.383</td>\n",
       "      <td>20.522</td>\n",
       "      <td>7.516</td>\n",
       "      <td>1.527</td>\n",
       "      <td>19.236</td>\n",
       "      <td>46.553</td>\n",
       "      <td>4.277</td>\n",
       "      <td>7.748</td>\n",
       "    </tr>\n",
       "    <tr>\n",
       "      <th>4</th>\n",
       "      <td>6</td>\n",
       "      <td>21.691</td>\n",
       "      <td>14.711</td>\n",
       "      <td>81.017</td>\n",
       "      <td>21.015</td>\n",
       "      <td>5.553</td>\n",
       "      <td>11.386</td>\n",
       "      <td>17.477</td>\n",
       "      <td>13.776</td>\n",
       "      <td>16.634</td>\n",
       "      <td>...</td>\n",
       "      <td>3.926</td>\n",
       "      <td>19.548</td>\n",
       "      <td>5.114</td>\n",
       "      <td>18.126</td>\n",
       "      <td>7.079</td>\n",
       "      <td>1.802</td>\n",
       "      <td>23.300</td>\n",
       "      <td>45.417</td>\n",
       "      <td>4.044</td>\n",
       "      <td>7.735</td>\n",
       "    </tr>\n",
       "  </tbody>\n",
       "</table>\n",
       "<p>5 rows × 153 columns</p>\n",
       "</div>"
      ],
      "text/plain": [
       "   1.000   22.640  14.464  81.846  22.303  5.206   13.008  20.742  14.349  \\\n",
       "0       2  21.593  13.584  81.234  19.634   4.756  10.206  17.576  14.729   \n",
       "1       3  20.348  13.595  81.041  22.261   5.335   9.868  13.821  14.625   \n",
       "2       4  22.938  13.941  81.420  21.579   5.410   9.857  13.642  14.422   \n",
       "3       5  20.889  12.441  81.222  20.250   5.081  11.525  12.387  13.078   \n",
       "4       6  21.691  14.711  81.017  21.015   5.553  11.386  17.477  13.776   \n",
       "\n",
       "   17.126  ...  4.038   19.026  6.572   17.669  7.024   2.347   23.887  \\\n",
       "0  16.779  ...   3.390  19.026   9.156  16.792   7.568   2.142  25.340   \n",
       "1  16.988  ...   4.179  18.215   7.307  17.280   7.383   2.056  27.561   \n",
       "2  16.672  ...   3.982  19.623   7.675  16.628   7.272   2.002  23.300   \n",
       "3  16.708  ...   4.201  19.561   5.383  20.522   7.516   1.527  19.236   \n",
       "4  16.634  ...   3.926  19.548   5.114  18.126   7.079   1.802  23.300   \n",
       "\n",
       "   42.383  4.802   7.620   \n",
       "0  41.388   4.140   7.929  \n",
       "1  41.679   3.816   6.994  \n",
       "2  41.452   3.906   7.850  \n",
       "3  46.553   4.277   7.748  \n",
       "4  45.417   4.044   7.735  \n",
       "\n",
       "[5 rows x 153 columns]"
      ]
     },
     "execution_count": 21,
     "metadata": {},
     "output_type": "execute_result"
    }
   ],
   "source": [
    "df, fname = load_data(\"./data/01_raw/E Green.xlsx\")\n",
    "# df, fname = load_data(\"../data/01_raw/E Green.xlsx\")\n",
    "df.head()"
   ]
  },
  {
   "cell_type": "markdown",
   "metadata": {},
   "source": [
    "Note: you want to be super careful about loading your files and looking at them first.\n",
    "These files don't have a header, and sometimes they have numbered rows like this one.\n"
   ]
  },
  {
   "cell_type": "code",
   "execution_count": null,
   "metadata": {},
   "outputs": [],
   "source": [
    "load_args = {'header': None, 'index_col': 0}\n",
    "# df, fname = load_data(\"./data/01_raw/E Green.xlsx\", load_args)\n",
    "df, fname = load_data(\"./data/01_raw/E Green.xlsx\", load_args)"
   ]
  },
  {
   "cell_type": "markdown",
   "metadata": {},
   "source": [
    "`Vitrocal` is organized into three distinct modules for data analysis:\n",
    "* `vitrocal.preprocessors`\n",
    "* `vitrocal.detectors`\n",
    "* `vitrocal.analyzers`\n",
    "\n",
    "You'll want to explore the parameter space for each of these individually and assess\n",
    "the impacts different parameter combinations have on your data.\n",
    "\n",
    "See [the documentation](https://ajbarrow.w3.uvm.edu/assets/public_share/vitrocal_docs/api/) for details."
   ]
  },
  {
   "cell_type": "markdown",
   "metadata": {},
   "source": [
    "### Preprocess"
   ]
  },
  {
   "cell_type": "code",
   "execution_count": 23,
   "metadata": {},
   "outputs": [],
   "source": [
    "# change these\n",
    "fps = 1/2.5\n",
    "bleach_period = 60\n",
    "filter_frequency = None\n",
    "baseline_threshold = 10 # percent\n",
    "preprocess_window_size = 60 # seconds\n",
    "\n",
    "# instantiate the StandardPreprocess object with these parameters\n",
    "preprocessor = StandardPreprocessor(\n",
    "        frames_per_second=1/2.5,\n",
    "        bleach_period=bleach_period,\n",
    "        filter_frequency=filter_frequency,\n",
    "        baseline_threshold=baseline_threshold,\n",
    "        window_size=preprocess_window_size\n",
    ")"
   ]
  },
  {
   "cell_type": "code",
   "execution_count": 24,
   "metadata": {},
   "outputs": [
    {
     "name": "stdout",
     "output_type": "stream",
     "text": [
      "No filter applied.\n"
     ]
    }
   ],
   "source": [
    "# call the object's `preprocess` method\n",
    "# see the documentation for other methods available\n",
    "\n",
    "processed = preprocessor.preprocess(df)"
   ]
  },
  {
   "cell_type": "markdown",
   "metadata": {},
   "source": [
    "## Detect and Extract"
   ]
  },
  {
   "cell_type": "code",
   "execution_count": 25,
   "metadata": {},
   "outputs": [],
   "source": [
    "# change this\n",
    "threshold = 20 # percent\n",
    "detector = DerivativeDetector(threshold)\n",
    "\n",
    "detected = detector.detect(processed)"
   ]
  },
  {
   "cell_type": "markdown",
   "metadata": {},
   "source": [
    "## Extract \n",
    "\n",
    "Note: the `StandardExtractor` class has a `detect_and_extract` method"
   ]
  },
  {
   "cell_type": "code",
   "execution_count": 26,
   "metadata": {},
   "outputs": [
    {
     "name": "stdout",
     "output_type": "stream",
     "text": [
      "With FPS = 0.4, a window of (3, 30) seconds captures 1 frame(s) before and 12 frame(s) after each event.\n"
     ]
    },
    {
     "name": "stderr",
     "output_type": "stream",
     "text": [
      "/Users/tony/Documents/phd/projects/other/vitrocal/vitrocal/detectors.py:137: PerformanceWarning: DataFrame is highly fragmented.  This is usually the result of calling `frame.insert` many times, which has poor performance.  Consider joining all columns at once using pd.concat(axis=1) instead. To get a de-fragmented frame, use `newframe = frame.copy()`\n",
      "  identified[identified is False] = np.NaN # non-events\n"
     ]
    }
   ],
   "source": [
    "# change these\n",
    "window = (3, 30) # seconds before and after\n",
    "threshold = 20 # percent\n",
    "\n",
    "extractor = StandardExtractor(\n",
    "    window=window,\n",
    "    frames_per_second=fps, # defined above\n",
    "    threshold=threshold\n",
    ")\n",
    "\n",
    "events = extractor.extract(processed, detected)"
   ]
  },
  {
   "cell_type": "markdown",
   "metadata": {},
   "source": [
    "Note: this method returns events as a Python dictionary. You can examine individual events, if you like:"
   ]
  },
  {
   "cell_type": "code",
   "execution_count": 27,
   "metadata": {},
   "outputs": [],
   "source": [
    "roi = 2\n",
    "# events[roi]"
   ]
  },
  {
   "cell_type": "markdown",
   "metadata": {},
   "source": [
    "## Analyze"
   ]
  },
  {
   "cell_type": "code",
   "execution_count": 28,
   "metadata": {},
   "outputs": [],
   "source": [
    "# change these\n",
    "upper_decay_bound = 0.8 # proportion\n",
    "lower_decay_bound = 0.2 # proportion\n",
    "\n",
    "analyzer = StandardAnalyzer(\n",
    "    upper_decay_bound=upper_decay_bound,\n",
    "    lower_decay_bound=lower_decay_bound\n",
    ")\n",
    "\n",
    "result, avg_result = analyzer.analyze(events)"
   ]
  },
  {
   "cell_type": "code",
   "execution_count": 29,
   "metadata": {},
   "outputs": [
    {
     "data": {
      "text/html": [
       "<div>\n",
       "<style scoped>\n",
       "    .dataframe tbody tr th:only-of-type {\n",
       "        vertical-align: middle;\n",
       "    }\n",
       "\n",
       "    .dataframe tbody tr th {\n",
       "        vertical-align: top;\n",
       "    }\n",
       "\n",
       "    .dataframe thead th {\n",
       "        text-align: right;\n",
       "    }\n",
       "</style>\n",
       "<table border=\"1\" class=\"dataframe\">\n",
       "  <thead>\n",
       "    <tr style=\"text-align: right;\">\n",
       "      <th></th>\n",
       "      <th>roi</th>\n",
       "      <th>event</th>\n",
       "      <th>peak</th>\n",
       "      <th>upper</th>\n",
       "      <th>lower</th>\n",
       "      <th>decay</th>\n",
       "    </tr>\n",
       "  </thead>\n",
       "  <tbody>\n",
       "    <tr>\n",
       "      <th>0</th>\n",
       "      <td>2</td>\n",
       "      <td>1.0</td>\n",
       "      <td>27.219529</td>\n",
       "      <td>21.297873269575085</td>\n",
       "      <td>2.423686623870037</td>\n",
       "      <td>18.874187</td>\n",
       "    </tr>\n",
       "    <tr>\n",
       "      <th>0</th>\n",
       "      <td>5</td>\n",
       "      <td>1.0</td>\n",
       "      <td>21.851080</td>\n",
       "      <td>6.71749433340203</td>\n",
       "      <td>-3.2533711260707254</td>\n",
       "      <td>9.970865</td>\n",
       "    </tr>\n",
       "    <tr>\n",
       "      <th>1</th>\n",
       "      <td>5</td>\n",
       "      <td>2.0</td>\n",
       "      <td>38.596155</td>\n",
       "      <td>15.092290988056458</td>\n",
       "      <td>1.5010871383174555</td>\n",
       "      <td>13.591204</td>\n",
       "    </tr>\n",
       "    <tr>\n",
       "      <th>2</th>\n",
       "      <td>5</td>\n",
       "      <td>3.0</td>\n",
       "      <td>37.804121</td>\n",
       "      <td>21.54067458187516</td>\n",
       "      <td>1.0369925070313724</td>\n",
       "      <td>20.503682</td>\n",
       "    </tr>\n",
       "    <tr>\n",
       "      <th>3</th>\n",
       "      <td>5</td>\n",
       "      <td>4.0</td>\n",
       "      <td>28.537583</td>\n",
       "      <td>17.316390264914933</td>\n",
       "      <td>NaN</td>\n",
       "      <td>NaN</td>\n",
       "    </tr>\n",
       "  </tbody>\n",
       "</table>\n",
       "</div>"
      ],
      "text/plain": [
       "   roi  event       peak               upper                lower      decay\n",
       "0    2    1.0  27.219529  21.297873269575085    2.423686623870037  18.874187\n",
       "0    5    1.0  21.851080    6.71749433340203  -3.2533711260707254   9.970865\n",
       "1    5    2.0  38.596155  15.092290988056458   1.5010871383174555  13.591204\n",
       "2    5    3.0  37.804121   21.54067458187516   1.0369925070313724  20.503682\n",
       "3    5    4.0  28.537583  17.316390264914933                  NaN        NaN"
      ]
     },
     "execution_count": 29,
     "metadata": {},
     "output_type": "execute_result"
    }
   ],
   "source": [
    "result.head()"
   ]
  },
  {
   "cell_type": "code",
   "execution_count": 30,
   "metadata": {},
   "outputs": [
    {
     "data": {
      "text/html": [
       "<div>\n",
       "<style scoped>\n",
       "    .dataframe tbody tr th:only-of-type {\n",
       "        vertical-align: middle;\n",
       "    }\n",
       "\n",
       "    .dataframe tbody tr th {\n",
       "        vertical-align: top;\n",
       "    }\n",
       "\n",
       "    .dataframe thead th {\n",
       "        text-align: right;\n",
       "    }\n",
       "</style>\n",
       "<table border=\"1\" class=\"dataframe\">\n",
       "  <thead>\n",
       "    <tr style=\"text-align: right;\">\n",
       "      <th></th>\n",
       "      <th>roi</th>\n",
       "      <th>total_events</th>\n",
       "      <th>average_peak</th>\n",
       "      <th>average_decay</th>\n",
       "    </tr>\n",
       "  </thead>\n",
       "  <tbody>\n",
       "    <tr>\n",
       "      <th>0</th>\n",
       "      <td>2</td>\n",
       "      <td>1</td>\n",
       "      <td>27.219529</td>\n",
       "      <td>18.874187</td>\n",
       "    </tr>\n",
       "    <tr>\n",
       "      <th>1</th>\n",
       "      <td>5</td>\n",
       "      <td>8</td>\n",
       "      <td>35.123731</td>\n",
       "      <td>14.355113</td>\n",
       "    </tr>\n",
       "    <tr>\n",
       "      <th>2</th>\n",
       "      <td>6</td>\n",
       "      <td>20</td>\n",
       "      <td>52.596420</td>\n",
       "      <td>21.558414</td>\n",
       "    </tr>\n",
       "    <tr>\n",
       "      <th>3</th>\n",
       "      <td>7</td>\n",
       "      <td>29</td>\n",
       "      <td>67.141770</td>\n",
       "      <td>30.643565</td>\n",
       "    </tr>\n",
       "    <tr>\n",
       "      <th>4</th>\n",
       "      <td>13</td>\n",
       "      <td>6</td>\n",
       "      <td>29.688055</td>\n",
       "      <td>14.325707</td>\n",
       "    </tr>\n",
       "  </tbody>\n",
       "</table>\n",
       "</div>"
      ],
      "text/plain": [
       "   roi  total_events  average_peak  average_decay\n",
       "0    2             1     27.219529      18.874187\n",
       "1    5             8     35.123731      14.355113\n",
       "2    6            20     52.596420      21.558414\n",
       "3    7            29     67.141770      30.643565\n",
       "4   13             6     29.688055      14.325707"
      ]
     },
     "execution_count": 30,
     "metadata": {},
     "output_type": "execute_result"
    }
   ],
   "source": [
    "avg_result.head()"
   ]
  },
  {
   "cell_type": "code",
   "execution_count": null,
   "metadata": {},
   "outputs": [],
   "source": [
    "# save results\n",
    "pd.to_pickle(events, \"./data/02_output/demo_events.pkl\") # python dictionary\n",
    "pd.to_pickle(analyzer, \"./data/02_output/demo_analyzer.pkl\") # python object\n",
    "result.to_csv(\"./data/02_output/demo_results.csv\")\n",
    "avg_result.to_csv(\"./data/02_output/demo_avg_results.csv\")"
   ]
  }
 ],
 "metadata": {
  "kernelspec": {
   "display_name": "vitrocal",
   "language": "python",
   "name": "python3"
  },
  "language_info": {
   "codemirror_mode": {
    "name": "ipython",
    "version": 3
   },
   "file_extension": ".py",
   "mimetype": "text/x-python",
   "name": "python",
   "nbconvert_exporter": "python",
   "pygments_lexer": "ipython3",
   "version": "3.10.14"
  }
 },
 "nbformat": 4,
 "nbformat_minor": 2
}
